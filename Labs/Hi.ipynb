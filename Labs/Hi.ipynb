{
  "nbformat": 4,
  "nbformat_minor": 0,
  "metadata": {
    "colab": {
      "provenance": [],
      "collapsed_sections": []
    },
    "kernelspec": {
      "name": "python3",
      "display_name": "Python 3"
    },
    "language_info": {
      "name": "python"
    },
    "accelerator": "GPU"
  },
  "cells": [
    {
      "cell_type": "code",
      "source": [
        "!pip install tensorflow==1.15.0"
      ],
      "metadata": {
        "colab": {
          "base_uri": "https://localhost:8080/"
        },
        "id": "L3y0yGFYiWRI",
        "outputId": "9222d7a1-ff77-466b-85c8-89c37f184b6d"
      },
      "execution_count": null,
      "outputs": [
        {
          "output_type": "stream",
          "name": "stdout",
          "text": [
            "Looking in indexes: https://pypi.org/simple, https://us-python.pkg.dev/colab-wheels/public/simple/\n",
            "Requirement already satisfied: tensorflow==1.15.0 in /usr/local/lib/python3.7/dist-packages (1.15.0)\n",
            "Requirement already satisfied: keras-applications>=1.0.8 in /usr/local/lib/python3.7/dist-packages (from tensorflow==1.15.0) (1.0.8)\n",
            "Requirement already satisfied: termcolor>=1.1.0 in /usr/local/lib/python3.7/dist-packages (from tensorflow==1.15.0) (2.0.1)\n",
            "Requirement already satisfied: wrapt>=1.11.1 in /usr/local/lib/python3.7/dist-packages (from tensorflow==1.15.0) (1.14.1)\n",
            "Requirement already satisfied: six>=1.10.0 in /usr/local/lib/python3.7/dist-packages (from tensorflow==1.15.0) (1.15.0)\n",
            "Requirement already satisfied: tensorflow-estimator==1.15.1 in /usr/local/lib/python3.7/dist-packages (from tensorflow==1.15.0) (1.15.1)\n",
            "Requirement already satisfied: opt-einsum>=2.3.2 in /usr/local/lib/python3.7/dist-packages (from tensorflow==1.15.0) (3.3.0)\n",
            "Requirement already satisfied: grpcio>=1.8.6 in /usr/local/lib/python3.7/dist-packages (from tensorflow==1.15.0) (1.49.1)\n",
            "Requirement already satisfied: protobuf>=3.6.1 in /usr/local/lib/python3.7/dist-packages (from tensorflow==1.15.0) (3.17.3)\n",
            "Requirement already satisfied: astor>=0.6.0 in /usr/local/lib/python3.7/dist-packages (from tensorflow==1.15.0) (0.8.1)\n",
            "Requirement already satisfied: absl-py>=0.7.0 in /usr/local/lib/python3.7/dist-packages (from tensorflow==1.15.0) (1.3.0)\n",
            "Requirement already satisfied: gast==0.2.2 in /usr/local/lib/python3.7/dist-packages (from tensorflow==1.15.0) (0.2.2)\n",
            "Requirement already satisfied: tensorboard<1.16.0,>=1.15.0 in /usr/local/lib/python3.7/dist-packages (from tensorflow==1.15.0) (1.15.0)\n",
            "Requirement already satisfied: wheel>=0.26 in /usr/local/lib/python3.7/dist-packages (from tensorflow==1.15.0) (0.37.1)\n",
            "Requirement already satisfied: keras-preprocessing>=1.0.5 in /usr/local/lib/python3.7/dist-packages (from tensorflow==1.15.0) (1.1.2)\n",
            "Requirement already satisfied: numpy<2.0,>=1.16.0 in /usr/local/lib/python3.7/dist-packages (from tensorflow==1.15.0) (1.21.6)\n",
            "Requirement already satisfied: google-pasta>=0.1.6 in /usr/local/lib/python3.7/dist-packages (from tensorflow==1.15.0) (0.2.0)\n",
            "Requirement already satisfied: h5py in /usr/local/lib/python3.7/dist-packages (from keras-applications>=1.0.8->tensorflow==1.15.0) (3.1.0)\n",
            "Requirement already satisfied: werkzeug>=0.11.15 in /usr/local/lib/python3.7/dist-packages (from tensorboard<1.16.0,>=1.15.0->tensorflow==1.15.0) (1.0.1)\n",
            "Requirement already satisfied: setuptools>=41.0.0 in /usr/local/lib/python3.7/dist-packages (from tensorboard<1.16.0,>=1.15.0->tensorflow==1.15.0) (57.4.0)\n",
            "Requirement already satisfied: markdown>=2.6.8 in /usr/local/lib/python3.7/dist-packages (from tensorboard<1.16.0,>=1.15.0->tensorflow==1.15.0) (3.4.1)\n",
            "Requirement already satisfied: importlib-metadata>=4.4 in /usr/local/lib/python3.7/dist-packages (from markdown>=2.6.8->tensorboard<1.16.0,>=1.15.0->tensorflow==1.15.0) (4.13.0)\n",
            "Requirement already satisfied: typing-extensions>=3.6.4 in /usr/local/lib/python3.7/dist-packages (from importlib-metadata>=4.4->markdown>=2.6.8->tensorboard<1.16.0,>=1.15.0->tensorflow==1.15.0) (4.1.1)\n",
            "Requirement already satisfied: zipp>=0.5 in /usr/local/lib/python3.7/dist-packages (from importlib-metadata>=4.4->markdown>=2.6.8->tensorboard<1.16.0,>=1.15.0->tensorflow==1.15.0) (3.9.0)\n",
            "Requirement already satisfied: cached-property in /usr/local/lib/python3.7/dist-packages (from h5py->keras-applications>=1.0.8->tensorflow==1.15.0) (1.5.2)\n"
          ]
        }
      ]
    },
    {
      "cell_type": "code",
      "source": [
        "!pip install -q lucid>=0.2.3\n",
        "!pip install -q moviepy"
      ],
      "metadata": {
        "id": "YXv13t34XX7o"
      },
      "execution_count": null,
      "outputs": []
    },
    {
      "cell_type": "code",
      "source": [
        "!pip install imageio==2.4.1"
      ],
      "metadata": {
        "colab": {
          "base_uri": "https://localhost:8080/"
        },
        "id": "Eg1iOrd_FyrX",
        "outputId": "b6092ec3-be30-46cd-c53d-e4d20c5d62f1"
      },
      "execution_count": null,
      "outputs": [
        {
          "output_type": "stream",
          "name": "stdout",
          "text": [
            "Looking in indexes: https://pypi.org/simple, https://us-python.pkg.dev/colab-wheels/public/simple/\n",
            "Collecting imageio==2.4.1\n",
            "  Downloading imageio-2.4.1.tar.gz (3.3 MB)\n",
            "\u001b[K     |████████████████████████████████| 3.3 MB 7.4 MB/s \n",
            "\u001b[?25hRequirement already satisfied: numpy in /usr/local/lib/python3.7/dist-packages (from imageio==2.4.1) (1.19.0)\n",
            "Requirement already satisfied: pillow in /usr/local/lib/python3.7/dist-packages (from imageio==2.4.1) (7.1.2)\n",
            "Building wheels for collected packages: imageio\n",
            "  Building wheel for imageio (setup.py) ... \u001b[?25l\u001b[?25hdone\n",
            "  Created wheel for imageio: filename=imageio-2.4.1-py3-none-any.whl size=3303885 sha256=465f924d48f3f2845ed6775ab26d83cd233652038c245717c3fa54884d765006\n",
            "  Stored in directory: /root/.cache/pip/wheels/46/20/07/7bb9c8c44e6ec2efa60fd0e6280094f53f65f41767ef69a5ee\n",
            "Successfully built imageio\n",
            "Installing collected packages: imageio\n",
            "  Attempting uninstall: imageio\n",
            "    Found existing installation: imageio 2.9.0\n",
            "    Uninstalling imageio-2.9.0:\n",
            "      Successfully uninstalled imageio-2.9.0\n",
            "Successfully installed imageio-2.4.1\n"
          ]
        }
      ]
    },
    {
      "cell_type": "code",
      "source": [
        "import numpy as np\n",
        "import json\n",
        "import moviepy.editor as mvp\n",
        "from google.colab import files\n",
        "import tensorflow.compat.v1.gfile as gfile\n",
        "import lucid.misc.io.showing as show"
      ],
      "metadata": {
        "id": "MuQfUYd6XYDH",
        "colab": {
          "base_uri": "https://localhost:8080/"
        },
        "outputId": "75c4b2a5-03d9-409e-fdb7-5f1868281c0a"
      },
      "execution_count": null,
      "outputs": [
        {
          "output_type": "stream",
          "name": "stdout",
          "text": [
            "Imageio: 'ffmpeg-linux64-v3.3.1' was not found on your computer; downloading it now.\n",
            "Try 1. Download from https://github.com/imageio/imageio-binaries/raw/master/ffmpeg/ffmpeg-linux64-v3.3.1 (43.8 MB)\n",
            "Downloading: 8192/45929032 bytes (0.0%)\b\b\b\b\b\b\b\b\b\b\b\b\b\b\b\b\b\b\b\b\b\b\b\b\b\b2883584/45929032 bytes (6.3%)\b\b\b\b\b\b\b\b\b\b\b\b\b\b\b\b\b\b\b\b\b\b\b\b\b\b\b\b\b6103040/45929032 bytes (13.3%)\b\b\b\b\b\b\b\b\b\b\b\b\b\b\b\b\b\b\b\b\b\b\b\b\b\b\b\b\b\b9445376/45929032 bytes (20.6%)\b\b\b\b\b\b\b\b\b\b\b\b\b\b\b\b\b\b\b\b\b\b\b\b\b\b\b\b\b\b12812288/45929032 bytes (27.9%)\b\b\b\b\b\b\b\b\b\b\b\b\b\b\b\b\b\b\b\b\b\b\b\b\b\b\b\b\b\b\b15974400/45929032 bytes (34.8%)\b\b\b\b\b\b\b\b\b\b\b\b\b\b\b\b\b\b\b\b\b\b\b\b\b\b\b\b\b\b\b19243008/45929032 bytes (41.9%)\b\b\b\b\b\b\b\b\b\b\b\b\b\b\b\b\b\b\b\b\b\b\b\b\b\b\b\b\b\b\b22519808/45929032 bytes (49.0%)\b\b\b\b\b\b\b\b\b\b\b\b\b\b\b\b\b\b\b\b\b\b\b\b\b\b\b\b\b\b\b25608192/45929032 bytes (55.8%)\b\b\b\b\b\b\b\b\b\b\b\b\b\b\b\b\b\b\b\b\b\b\b\b\b\b\b\b\b\b\b28819456/45929032 bytes (62.7%)\b\b\b\b\b\b\b\b\b\b\b\b\b\b\b\b\b\b\b\b\b\b\b\b\b\b\b\b\b\b\b31383552/45929032 bytes (68.3%)\b\b\b\b\b\b\b\b\b\b\b\b\b\b\b\b\b\b\b\b\b\b\b\b\b\b\b\b\b\b\b34701312/45929032 bytes (75.6%)\b\b\b\b\b\b\b\b\b\b\b\b\b\b\b\b\b\b\b\b\b\b\b\b\b\b\b\b\b\b\b38019072/45929032 bytes (82.8%)\b\b\b\b\b\b\b\b\b\b\b\b\b\b\b\b\b\b\b\b\b\b\b\b\b\b\b\b\b\b\b41500672/45929032 bytes (90.4%)\b\b\b\b\b\b\b\b\b\b\b\b\b\b\b\b\b\b\b\b\b\b\b\b\b\b\b\b\b\b\b44777472/45929032 bytes (97.5%)\b\b\b\b\b\b\b\b\b\b\b\b\b\b\b\b\b\b\b\b\b\b\b\b\b\b\b\b\b\b\b45929032/45929032 bytes (100.0%)\n",
            "  Done\n",
            "File saved as /root/.imageio/ffmpeg/ffmpeg-linux64-v3.3.1.\n"
          ]
        }
      ]
    },
    {
      "cell_type": "code",
      "source": [
        "from lucid.misc.gl.glcontext import create_opengl_context\n",
        "\n",
        "# Now it's safe to import OpenGL and EGL functions\n",
        "import OpenGL.GL as gl\n",
        "from OpenGL.GLU import *\n",
        "\n",
        "# create_opengl_context() creates GL context that is attached to an\n",
        "# offscreen surface of specified size. Note that rendering to buffers\n",
        "# of different size and format is still possible with OpenGL Framebuffers.\n",
        "#\n",
        "# Users are expected to directly use EGL calls in case more advanced\n",
        "# context management is required.\n",
        "WIDTH, HEIGHT = 800,600\n",
        "create_opengl_context((WIDTH, HEIGHT))\n",
        "    \n",
        "# OpenGL context is available here.\n",
        "\n",
        "print(gl.glGetString(gl.GL_VERSION))\n",
        "print(gl.glGetString(gl.GL_VENDOR)) \n",
        "#print(gl.glGetString(gl.GL_EXTENSIONS))"
      ],
      "metadata": {
        "id": "-dC6f5NBXcNu",
        "colab": {
          "base_uri": "https://localhost:8080/",
          "height": 536
        },
        "outputId": "a05e9703-89d7-46c0-f1f2-497328bdcf7c"
      },
      "execution_count": null,
      "outputs": [
        {
          "output_type": "error",
          "ename": "EGLError",
          "evalue": "ignored",
          "traceback": [
            "\u001b[0;31m---------------------------------------------------------------------------\u001b[0m",
            "\u001b[0;31mEGLError\u001b[0m                                  Traceback (most recent call last)",
            "\u001b[0;32m<ipython-input-10-1b74b0c0032a>\u001b[0m in \u001b[0;36m<module>\u001b[0;34m\u001b[0m\n\u001b[1;32m     12\u001b[0m \u001b[0;31m# context management is required.\u001b[0m\u001b[0;34m\u001b[0m\u001b[0;34m\u001b[0m\u001b[0;34m\u001b[0m\u001b[0m\n\u001b[1;32m     13\u001b[0m \u001b[0mWIDTH\u001b[0m\u001b[0;34m,\u001b[0m \u001b[0mHEIGHT\u001b[0m \u001b[0;34m=\u001b[0m \u001b[0;36m800\u001b[0m\u001b[0;34m,\u001b[0m\u001b[0;36m600\u001b[0m\u001b[0;34m\u001b[0m\u001b[0;34m\u001b[0m\u001b[0m\n\u001b[0;32m---> 14\u001b[0;31m \u001b[0mcreate_opengl_context\u001b[0m\u001b[0;34m(\u001b[0m\u001b[0;34m(\u001b[0m\u001b[0mWIDTH\u001b[0m\u001b[0;34m,\u001b[0m \u001b[0mHEIGHT\u001b[0m\u001b[0;34m)\u001b[0m\u001b[0;34m)\u001b[0m\u001b[0;34m\u001b[0m\u001b[0;34m\u001b[0m\u001b[0m\n\u001b[0m\u001b[1;32m     15\u001b[0m \u001b[0;34m\u001b[0m\u001b[0m\n\u001b[1;32m     16\u001b[0m \u001b[0;31m# OpenGL context is available here.\u001b[0m\u001b[0;34m\u001b[0m\u001b[0;34m\u001b[0m\u001b[0;34m\u001b[0m\u001b[0m\n",
            "\u001b[0;32m/usr/local/lib/python3.7/dist-packages/lucid/misc/gl/glcontext.py\u001b[0m in \u001b[0;36mcreate_opengl_context\u001b[0;34m(surface_size)\u001b[0m\n\u001b[1;32m     89\u001b[0m \u001b[0;34m\u001b[0m\u001b[0m\n\u001b[1;32m     90\u001b[0m   \u001b[0mmajor\u001b[0m\u001b[0;34m,\u001b[0m \u001b[0mminor\u001b[0m \u001b[0;34m=\u001b[0m \u001b[0megl\u001b[0m\u001b[0;34m.\u001b[0m\u001b[0mEGLint\u001b[0m\u001b[0;34m(\u001b[0m\u001b[0;34m)\u001b[0m\u001b[0;34m,\u001b[0m \u001b[0megl\u001b[0m\u001b[0;34m.\u001b[0m\u001b[0mEGLint\u001b[0m\u001b[0;34m(\u001b[0m\u001b[0;34m)\u001b[0m\u001b[0;34m\u001b[0m\u001b[0;34m\u001b[0m\u001b[0m\n\u001b[0;32m---> 91\u001b[0;31m   \u001b[0megl\u001b[0m\u001b[0;34m.\u001b[0m\u001b[0meglInitialize\u001b[0m\u001b[0;34m(\u001b[0m\u001b[0megl_display\u001b[0m\u001b[0;34m,\u001b[0m \u001b[0mpointer\u001b[0m\u001b[0;34m(\u001b[0m\u001b[0mmajor\u001b[0m\u001b[0;34m)\u001b[0m\u001b[0;34m,\u001b[0m \u001b[0mpointer\u001b[0m\u001b[0;34m(\u001b[0m\u001b[0mminor\u001b[0m\u001b[0;34m)\u001b[0m\u001b[0;34m)\u001b[0m\u001b[0;34m\u001b[0m\u001b[0;34m\u001b[0m\u001b[0m\n\u001b[0m\u001b[1;32m     92\u001b[0m \u001b[0;34m\u001b[0m\u001b[0m\n\u001b[1;32m     93\u001b[0m   config_attribs = [\n",
            "\u001b[0;32m/usr/local/lib/python3.7/dist-packages/OpenGL/error.py\u001b[0m in \u001b[0;36mglCheckError\u001b[0;34m(self, result, baseOperation, cArguments, *args)\u001b[0m\n\u001b[1;32m    232\u001b[0m                         \u001b[0mresult\u001b[0m\u001b[0;34m,\u001b[0m\u001b[0;34m\u001b[0m\u001b[0;34m\u001b[0m\u001b[0m\n\u001b[1;32m    233\u001b[0m                         \u001b[0mcArguments\u001b[0m \u001b[0;34m=\u001b[0m \u001b[0mcArguments\u001b[0m\u001b[0;34m,\u001b[0m\u001b[0;34m\u001b[0m\u001b[0;34m\u001b[0m\u001b[0m\n\u001b[0;32m--> 234\u001b[0;31m                         \u001b[0mbaseOperation\u001b[0m \u001b[0;34m=\u001b[0m \u001b[0mbaseOperation\u001b[0m\u001b[0;34m,\u001b[0m\u001b[0;34m\u001b[0m\u001b[0;34m\u001b[0m\u001b[0m\n\u001b[0m\u001b[1;32m    235\u001b[0m                     )\n\u001b[1;32m    236\u001b[0m                 \u001b[0;32mreturn\u001b[0m \u001b[0mresult\u001b[0m\u001b[0;34m\u001b[0m\u001b[0;34m\u001b[0m\u001b[0m\n",
            "\u001b[0;31mEGLError\u001b[0m: EGLError(\n\terr = EGL_NOT_INITIALIZED,\n\tbaseOperation = eglInitialize,\n\tcArguments = (\n\t\t<OpenGL._opaque.EGLDisplay_pointer object at 0x7fd57d682680>,\n\t\t<importlib._bootstrap.LP_c_int object at 0x7fd57d6827a0>,\n\t\t<importlib._bootstrap.LP_c_int object at 0x7fd57d682830>,\n\t),\n\tresult = 0\n)"
          ]
        }
      ]
    },
    {
      "cell_type": "code",
      "source": [
        "# Let's render something!\n",
        "gl.glClear(gl.GL_COLOR_BUFFER_BIT)\n",
        "\n",
        "gl.glColor3f(0,1,1)   #openGL Color Codes\n",
        "gl.glPointSize(5)\n",
        "\n",
        "import random\n",
        "def point(count):\n",
        " for i in range(0,count):\n",
        "   start = random.uniform(0,1)\n",
        "   end = random.uniform(0,1)\n",
        "   gl.glBegin(gl.GL_POINTS)\n",
        "   gl.glVertex2f(start,end)\n",
        "   gl.glEnd()\n",
        "point(50)\n",
        "\n",
        "#gl.glBegin(gl.GL_LINES)\n",
        "#gl.glVertex2f(0,-1)\n",
        "#gl.glVertex2f(0,1)\n",
        "#gl.glVertex2f(1,0)\n",
        "#gl.glVertex2f(-1,0)\n",
        "#gl.glEnd()\n",
        "\n",
        "#gl.glColor3f(.5,0,0)\n",
        "#gl.glBegin(gl.GL_POINTS)\n",
        "#gl.glVertex2f(.75,.80 )\n",
        "#gl.glVertex2f(.1, 0)\n",
        "#gl.glEnd()"
      ],
      "metadata": {
        "id": "ANi7Wf-hbL9Y"
      },
      "execution_count": null,
      "outputs": []
    },
    {
      "cell_type": "code",
      "source": [
        "img_buf = gl.glReadPixelsub(0, 0, WIDTH, HEIGHT, gl.GL_RGB, gl.GL_UNSIGNED_BYTE)\n",
        "img = np.frombuffer(img_buf, np.uint8).reshape(HEIGHT, WIDTH, 3)[::-1]\n",
        "show.image(img/255.0)"
      ],
      "metadata": {
        "colab": {
          "base_uri": "https://localhost:8080/",
          "height": 622
        },
        "id": "e6JCjyDMyE75",
        "outputId": "54f56e05-338f-4b0d-953f-06a95b3de9fa"
      },
      "execution_count": null,
      "outputs": [
        {
          "output_type": "display_data",
          "data": {
            "text/plain": [
              "<IPython.core.display.HTML object>"
            ],
            "text/html": [
              "<img src=\"data:image/PNG;base64,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\" style=\"image-rendering: pixelated; image-rendering: crisp-edges;\">"
            ]
          },
          "metadata": {}
        }
      ]
    },
    {
      "cell_type": "code",
      "source": [
        "gl.glClear(gl.GL_COLOR_BUFFER_BIT)\n",
        "\n",
        "gl.glColor3f(0.184314,0.184314,0.309804)\n",
        "gl.glPointSize(5)\n",
        "\n",
        "gl.glBegin(gl.GL_TRIANGLES)   #\tTreats each triplet of vertices as an independent triangle. Vertices 3n - 2, 3n - 1, and 3n define triangle n. N/3 triangles are drawn.\n",
        "gl.glVertex2f(0.2,0.5)\n",
        "gl.glVertex2f(0.5,0.5)\n",
        "gl.glVertex2f(0.35,0.7)\n",
        "gl.glEnd()\n",
        "\n",
        "\n",
        "gl.glColor3f(0.184314,0.184314,0.309804)\n",
        "gl.glBegin(gl.GL_LINES)\n",
        "gl.glVertex2f(0.2,0.5)   #0.2 Refers to left straight lines position and 0.5 refers to the height of this line (upper corner)\n",
        "gl.glVertex2f(0.2,0.1)  #0.2 refers to the left straight line (lower corner) amd 0.01 refers to this lines height (axis wise)\n",
        "gl.glVertex2f(0.5,0.5)   #these refers to the right straight line\n",
        "gl.glVertex2f(0.5,0.1)  #0.5 refers to the angle and 0.01 refers to the height of the right straight line\n",
        "gl.glVertex2f(0.2,0.1)  #Fixing the Ground Line\n",
        "gl.glVertex2f(0.5,0.1)  #Ground size 0.5 and angle 0.01\n",
        "gl.glVertex2f(0.3,0.3)   #door left line\n",
        "gl.glVertex2f(0.3,0.1)  #door left line\n",
        "gl.glVertex2f(0.4,0.3)   #door right line\n",
        "gl.glVertex2f(0.4,0.1)  #door right line\n",
        "gl.glVertex2f(0.3,0.3)   #door upper line\n",
        "gl.glVertex2f(0.4,0.3)   #door upper line \n",
        "gl.glEnd()\n",
        "\n",
        "\n",
        "#KNOB\n",
        "gl.glColor3f(0.5,0,0)\n",
        "gl.glBegin(gl.GL_POINTS)\n",
        "gl.glVertex2f(0.38,0.2)\n",
        "gl.glEnd()\n",
        "\n",
        "#WIndows\n",
        "gl.glColor3f(0.309804,0.184314,0.309804)\n",
        "def wnd(x1,x2,x3,x4,y1,y2,y3,y4):     #For Windows\n",
        "  gl.glBegin(gl.GL_LINES)\n",
        "  gl.glVertex2f(x1,y1)\n",
        "  gl.glVertex2f(x2,y2)\n",
        "  gl.glVertex2f(x2,y2)\n",
        "  gl.glVertex2f(x3,y3)\n",
        "  gl.glVertex2f(x3,y3)\n",
        "  gl.glVertex2f(x4,y4)\n",
        "  gl.glVertex2f(x4,y4)\n",
        "  gl.glVertex2f(x1,y1)\n",
        "  gl.glEnd()\n",
        "wnd(0.22,0.30,0.30,0.22,0.47,0.47,0.37,0.37)   # left square Window \n",
        "wnd(0.40,0.478,0.478,0.40,0.47,0.47,0.37,0.37)   # right square window"
      ],
      "metadata": {
        "id": "evjH-3l5fE3w"
      },
      "execution_count": null,
      "outputs": []
    },
    {
      "cell_type": "code",
      "source": [
        "img_buf = gl.glReadPixelsub(0, 0, WIDTH, HEIGHT, gl.GL_RGB, gl.GL_UNSIGNED_BYTE)\n",
        "img = np.frombuffer(img_buf, np.uint8).reshape(HEIGHT, WIDTH, 3)[::-1]\n",
        "show.image(img/255.0)"
      ],
      "metadata": {
        "colab": {
          "base_uri": "https://localhost:8080/",
          "height": 622
        },
        "id": "CMq9BfWV3y6I",
        "outputId": "f4704757-03da-48d9-965c-3b21b91e5d01"
      },
      "execution_count": null,
      "outputs": [
        {
          "output_type": "display_data",
          "data": {
            "text/plain": [
              "<IPython.core.display.HTML object>"
            ],
            "text/html": [
              "<img src=\"data:image/PNG;base64,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\" style=\"image-rendering: pixelated; image-rendering: crisp-edges;\">"
            ]
          },
          "metadata": {}
        }
      ]
    }
  ]
}